{
  "nbformat": 4,
  "nbformat_minor": 0,
  "metadata": {
    "colab": {
      "name": "Edvīns.EDIBO3.ipynb",
      "provenance": [],
      "authorship_tag": "ABX9TyOW9G34K7YATf0SqGPuWRf2",
      "include_colab_link": true
    },
    "kernelspec": {
      "name": "python3",
      "display_name": "Python 3"
    },
    "language_info": {
      "name": "python"
    }
  },
  "cells": [
    {
      "cell_type": "markdown",
      "metadata": {
        "id": "view-in-github",
        "colab_type": "text"
      },
      "source": [
        "<a href=\"https://colab.research.google.com/github/EdvinsVormsbehers/EDIBO_3/blob/main/Edv%C4%ABns_EDIBO3.ipynb\" target=\"_parent\"><img src=\"https://colab.research.google.com/assets/colab-badge.svg\" alt=\"Open In Colab\"/></a>"
      ]
    },
    {
      "cell_type": "markdown",
      "metadata": {
        "id": "xI075NMdQwL5"
      },
      "source": [
        "EDIBO Lesson 3 - Diamond"
      ]
    },
    {
      "cell_type": "markdown",
      "metadata": {
        "id": "CqLkwFZAQ17u"
      },
      "source": [
        "version 1"
      ]
    },
    {
      "cell_type": "code",
      "metadata": {
        "colab": {
          "base_uri": "https://localhost:8080/"
        },
        "id": "h9U_zW9qlmwf",
        "outputId": "d3069ae2-27c1-45f4-a1a3-b30b200de892"
      },
      "source": [
        "#Ievadītais skaitlis ir malas garums\n",
        "n = int(input(\"Ievadiet malas garumu: \"))\n",
        "\n",
        "for i in range(n):\n",
        "  print(\" \" * (n - i), \"*\" * (i * 2 + 1))\n",
        "\n",
        "for i in range(n - 2, -1, -1):\n",
        "  print(\" \" * (n - i), \"*\" * (i * 2 + 1))"
      ],
      "execution_count": null,
      "outputs": [
        {
          "output_type": "stream",
          "text": [
            "Ievadiet malas garumu: 4\n",
            "     *\n",
            "    ***\n",
            "   *****\n",
            "  *******\n",
            "   *****\n",
            "    ***\n",
            "     *\n"
          ],
          "name": "stdout"
        }
      ]
    },
    {
      "cell_type": "markdown",
      "metadata": {
        "id": "Mq-jr57_Q5LH"
      },
      "source": [
        "version 2"
      ]
    },
    {
      "cell_type": "code",
      "metadata": {
        "colab": {
          "base_uri": "https://localhost:8080/"
        },
        "id": "17VllKbEowtE",
        "outputId": "578ab22a-f7f7-468c-ce94-1509c4194a8b"
      },
      "source": [
        "#Ievadītais skaitlis ir max zvaigznīšu skaits rindā\n",
        "#Var ievadīt tikai nepāra skaitļus\n",
        "h = int(input(\"Ievadiet dimanta izmēru: \"))\n",
        "\n",
        "if h % 2 == 0:\n",
        "  print(\"DIMANTA IZMĒRS NEVAR BŪT PĀRA SKAITLIS\")\n",
        "else:\n",
        "  for i in range(1, h, 2):\n",
        "    print(\" \" * (h//2 - i//2), \"*\" * i)\n",
        "  for i in range(h, 0, -2):\n",
        "    print(\" \" * (h//2 - i//2), \"*\" * i)"
      ],
      "execution_count": null,
      "outputs": [
        {
          "output_type": "stream",
          "text": [
            "Ievadiet dimanta izmēru: 5\n",
            "   *\n",
            "  ***\n",
            " *****\n",
            "  ***\n",
            "   *\n"
          ],
          "name": "stdout"
        }
      ]
    }
  ]
}